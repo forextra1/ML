{
 "cells": [
  {
   "cell_type": "markdown",
   "metadata": {},
   "source": [
    "### tamrin 2 :\n"
   ]
  },
  {
   "cell_type": "markdown",
   "metadata": {},
   "source": [
    "### Exercise 1\n",
    "\n",
    "Write a function that takes a number as input and categorizes it as \"negative,\" \"zero,\" or \"positive.\" Additionally, if the number is even or odd, print that as well."
   ]
  },
  {
   "cell_type": "code",
   "execution_count": 1,
   "metadata": {},
   "outputs": [
    {
     "name": "stdout",
     "output_type": "stream",
     "text": [
      "num is positive and even\n"
     ]
    }
   ],
   "source": [
    "def categorize_number(num):\n",
    "    if num ==0 :\n",
    "     print('num is zero')\n",
    "    elif num <0 :\n",
    "     print('num is negative')\n",
    "    else :\n",
    "     if num % 2 ==0 :\n",
    "             print('num is positive and even')\n",
    "     else: \n",
    "             print('num is positive and odd')\n",
    "     \n",
    "categorize_number(6)"
   ]
  },
  {
   "cell_type": "markdown",
   "metadata": {},
   "source": [
    "### TODO 1\n",
    "Write a Python function called evaluate_scan that predicts whether a medical scan shows a Tumor or No Tumor. Based on the prediction and the model’s confidence score, you need to evaluate the reliability of the result and decide if further review by a doctor is needed."
   ]
  },
  {
   "cell_type": "code",
   "execution_count": 2,
   "metadata": {},
   "outputs": [
    {
     "data": {
      "text/plain": [
       "'Arrange a follow-up review.'"
      ]
     },
     "execution_count": 2,
     "metadata": {},
     "output_type": "execute_result"
    }
   ],
   "source": [
    "def evaluate_scan(prediction, confidence_score):\n",
    "    if confidence_score >= 0.85:\n",
    "        if prediction == \"Tumor\":\n",
    "            return \"Schedule surgery consultation.\"\n",
    "        elif prediction == 'No Tumor':\n",
    "            return \"Schedule follow-up in 6 months.\"\n",
    "        \n",
    "    elif 0.6 <= confidence_score < 0.85:\n",
    "        return \"Arrange a follow-up review.\"\n",
    "    else:  # confidence_score < 0.6\n",
    "        return \"Consider re-scanning.\"\n",
    "        \n",
    "prediction_tumor = 'Tumor'\n",
    "confidence_score_tumor = 0.7\n",
    "evaluate_scan(prediction_tumor, confidence_score_tumor)"
   ]
  },
  {
   "cell_type": "markdown",
   "metadata": {},
   "source": [
    "### Exercise 2\n",
    "Write a Python function sum_of_list(lst) that takes a list of numbers and returns the sum of all the elements in the list using a for loop."
   ]
  },
  {
   "cell_type": "code",
   "execution_count": 77,
   "metadata": {},
   "outputs": [
    {
     "name": "stdout",
     "output_type": "stream",
     "text": [
      "sum_of_list: 6\n"
     ]
    }
   ],
   "source": [
    "def sum_of_list(list):\n",
    "    #print(sum(list))\n",
    "    n=len(list)\n",
    "    sum=0;\n",
    "    for i in range(0,n):\n",
    "        sum=sum+list[i]\n",
    "    print(f\"sum_of_list: {sum}\")\n",
    "sum_of_list([1, 2, 3])"
   ]
  },
  {
   "cell_type": "markdown",
   "metadata": {},
   "source": [
    "### Exercise 3\n",
    "Write a Python function factorial(n) that calculates the factorial of a given number n using a while loop."
   ]
  },
  {
   "cell_type": "code",
   "execution_count": 78,
   "metadata": {},
   "outputs": [
    {
     "name": "stdout",
     "output_type": "stream",
     "text": [
      "factorial is : 6\n"
     ]
    }
   ],
   "source": [
    "def factorial_me(n):\n",
    "    fact=1 \n",
    "    i=1\n",
    "    while i<=n :     #for i in range(1,n+1):\n",
    "        fact=fact*i\n",
    "        i=i+1\n",
    "    print(f\"factorial is : {fact}\")\n",
    "        \n",
    "factorial_me(3)"
   ]
  },
  {
   "cell_type": "markdown",
   "metadata": {},
   "source": [
    "### TODO 2\n",
    "\n",
    "Define a function called classify_patient_tests that accepts a list of dictionaries representing patients' medical test results whihch should iterates through this dataset, classifies the results based on the given conditions, and stores the results in a new list."
   ]
  },
  {
   "cell_type": "code",
   "execution_count": 2,
   "metadata": {},
   "outputs": [
    {
     "name": "stdout",
     "output_type": "stream",
     "text": [
      "Patient ID: 1, Heart Rate Status: Normal, Blood Pressure Status: Normal, Blood Glucose Status: Normal\n",
      "Patient ID: 2, Heart Rate Status: Normal, Blood Pressure Status: Normal, Blood Glucose Status: Normal\n",
      "Patient ID: 3, Heart Rate Status: Abnormal, Blood Pressure Status: Abnormal, Blood Glucose Status: Abnormal\n",
      "Patient ID: 4, Heart Rate Status: Normal, Blood Pressure Status: Normal, Blood Glucose Status: Normal\n",
      "Patient ID: 5, Heart Rate Status: Normal, Blood Pressure Status: Abnormal, Blood Glucose Status: Abnormal\n"
     ]
    }
   ],
   "source": [
    "def classify_patient_tests(patients_data):\n",
    "\n",
    "    classified_results = []\n",
    "    for patient in patients_data:\n",
    "        heart_rate = patient['heart_rate']\n",
    "        blood_pressure = patient['blood_pressure']\n",
    "        blood_glucose = patient['blood_glucose']\n",
    "\n",
    "        if 60 <= heart_rate <= 100:\n",
    "            heart_rate_status = 'Normal'\n",
    "        else:heart_rate_status = 'Abnormal'\n",
    "        \n",
    "        if blood_pressure[0] < 140 and blood_pressure[1] < 90:\n",
    "            blood_pressure_status = 'Normal'\n",
    "        else:blood_pressure_status = 'Abnormal'\n",
    "        \n",
    "        if 70 <= blood_glucose <= 140:\n",
    "            blood_glucose_status = 'Normal'\n",
    "        else:blood_glucose_status = 'Abnormal'\n",
    "\n",
    "        patient_classification = {\n",
    "            'id': patient['id'],\n",
    "            'heart_rate_status': heart_rate_status,\n",
    "            'blood_pressure_status': blood_pressure_status,\n",
    "            'blood_glucose_status': blood_glucose_status,\n",
    "        }\n",
    "\n",
    "        classified_results.append(patient_classification)\n",
    "\n",
    "    return classified_results\n",
    "\n",
    "patients_data = [\n",
    "    {'id': 1, 'heart_rate': 72, 'blood_pressure': (120, 80), 'blood_glucose': 90},\n",
    "    {'id': 2, 'heart_rate': 85, 'blood_pressure': (130, 85), 'blood_glucose': 110},\n",
    "    {'id': 3, 'heart_rate': 102, 'blood_pressure': (145, 95), 'blood_glucose': 180},\n",
    "    {'id': 4, 'heart_rate': 60, 'blood_pressure': (110, 70), 'blood_glucose': 85},\n",
    "    {'id': 5, 'heart_rate': 95, 'blood_pressure': (160, 100), 'blood_glucose': 200},\n",
    "]\n",
    "\n",
    "classified_results = classify_patient_tests(patients_data)\n",
    "\n",
    "for Patient in classified_results:\n",
    "    print(f\"Patient ID: {Patient['id']}, \"\n",
    "          f\"Heart Rate Status: {Patient['heart_rate_status']}, \"\n",
    "          f\"Blood Pressure Status: {Patient['blood_pressure_status']}, \"\n",
    "          f\"Blood Glucose Status: {Patient['blood_glucose_status']}\")\n"
   ]
  },
  {
   "cell_type": "markdown",
   "metadata": {},
   "source": [
    "## Exercise 4\n",
    "\n",
    "Create a Python class hierarchy to manage information about medical professionals and their patients. Implement a base class Person with attributes for name, age, and city, and a method to return basic information. Derive the Doctor class from Person, adding a specialty attribute and overriding the method to include the doctor's specialty in the output. Derive the Patient class from Person, adding a medical_history list with methods to add conditions and retrieve the medical history. Demonstrate the functionality by creating instances of Doctor and Patient, and print their details."
   ]
  },
  {
   "cell_type": "code",
   "execution_count": 10,
   "metadata": {},
   "outputs": [
    {
     "name": "stdout",
     "output_type": "stream",
     "text": [
      "Dr. Jabari is a Cardiology doctor, 45 years old, living in Tehran.\n",
      "Reza Rezaei is 75 years old and lives in Rasht.\n",
      "Reza Rezaei's medical history: Alzheimer, Diabetes\n"
     ]
    }
   ],
   "source": [
    "class Person:\n",
    "    def __init__(self, name, age, city):\n",
    "        self.name = name\n",
    "        self.age = age\n",
    "        self.city = city\n",
    "\n",
    "    def get_info(self):\n",
    "        return f\"{self.name} is {self.age} years old and lives in {self.city}.\"\n",
    "\n",
    "\n",
    "class Doctor(Person):\n",
    "    def __init__(self, name, age, city, specialty):\n",
    "        super().__init__(name, age, city)\n",
    "        self.specialty = specialty\n",
    "\n",
    "    def get_info(self):\n",
    "        return f\"{self.name} is a {self.specialty} doctor, {self.age} years old, living in {self.city}.\"\n",
    "\n",
    "\n",
    "class Patient(Person):\n",
    "    def __init__(self, name, age, city):\n",
    "        super().__init__(name, age, city)\n",
    "        self.medical_history = []\n",
    "\n",
    "    def add_medical_condition(self, condition):\n",
    "        #self.medical_history.append(condition) \n",
    "        self.medical_history.extend(condition) #این بخش رو قبل از اصلاح ارسال کردم\n",
    "             \n",
    "    def get_medical_history(self):\n",
    "        if self.medical_history:\n",
    "            return f\"{self.name}'s medical history: {', '.join(self.medical_history)}\"\n",
    "        else:\n",
    "            return f\"{self.name} has no recorded medical history.\"\n",
    "\n",
    "\n",
    "# Example Usage\n",
    "doctor = Doctor(\"Dr. Jabari\", 45, \"Tehran\", \"Cardiology\")\n",
    "patient = Patient(\"Reza Rezaei\", 75, \"Rasht\")\n",
    "patient.add_medical_condition([\"Alzheimer\", \"Diabetes\"])\n",
    "\n",
    "print(doctor.get_info()) \n",
    "print(patient.get_info())\n",
    "print(patient.get_medical_history())\n"
   ]
  },
  {
   "cell_type": "markdown",
   "metadata": {},
   "source": [
    "### TODO 3\n",
    "\n",
    "Develop a Python class hierarchy for processing different types of medical signals. Create a base class MedicalSignal with attributes for patient_name and signal_type, and methods for general signal processing, retrieving basic information, and validating signal types. Derive subclasses ECGSignal, EEGSignal, and EMGSignal, each with specific attributes (e.g., duration for ECG and EMG signals, channels for EEG signals) and additional methods to get and set these attributes. Each subclass should override the processing method to return a message tailored to the type of signal being processed. Demonstrate the functionality by creating instances of each signal type, invoking their respective processing methods, and using the new methods to retrieve and update information about each signal."
   ]
  },
  {
   "cell_type": "code",
   "execution_count": 1,
   "metadata": {},
   "outputs": [
    {
     "name": "stdout",
     "output_type": "stream",
     "text": [
      "Processing ECG signal for Reza Rezaei for 60 seconds.\n",
      "Processing EEG signal with 32 channels for Mohammad Rezaei.\n",
      "Processing EMG signal for Reza Mohammadi for 45 seconds from the biceps muscle group.\n",
      "Patient: Reza Rezaei, Signal Type: ECG\n",
      "60\n",
      "75\n",
      "Patient: Mohammad Rezaei, Signal Type: EEG\n",
      "32\n",
      "40\n",
      "Patient: Reza Mohammadi, Signal Type: EMG\n",
      "biceps\n",
      "triceps\n"
     ]
    }
   ],
   "source": [
    "class MedicalSignal:\n",
    "    VALID_SIGNAL_TYPES = [\"General\", \"ECG\", \"EEG\", \"EMG\"]\n",
    "\n",
    "    def __init__(self, patient_name, signal_type):\n",
    "        self.patient_name = patient_name\n",
    "        self.signal_type = signal_type\n",
    "\n",
    "    def process(self):\n",
    "        return f\"Processing {self.signal_type} signal for {self.patient_name}.\"\n",
    "\n",
    "    def get_info(self):\n",
    "        return f\"Patient: {self.patient_name}, Signal Type: {self.signal_type}\"\n",
    "\n",
    "    def is_valid(self):\n",
    "        return self.signal_type in self.VALID_SIGNAL_TYPES\n",
    "\n",
    "\n",
    "class ECGSignal(MedicalSignal):\n",
    "    def __init__(self, patient_name, duration):\n",
    "        super().__init__(patient_name, \"ECG\")\n",
    "        self.duration = duration\n",
    "\n",
    "    def process(self):\n",
    "        return f\"Processing ECG signal for {self.patient_name} for {self.duration} seconds.\"\n",
    "\n",
    "    def get_duration(self):\n",
    "        return self.duration\n",
    "\n",
    "    def set_duration(self, new_duration):\n",
    "        self.duration = new_duration\n",
    "\n",
    "\n",
    "class EEGSignal(MedicalSignal):\n",
    "    def __init__(self, patient_name, channels):\n",
    "        super().__init__(patient_name, \"EEG\")\n",
    "        self.channels = channels\n",
    "\n",
    "    def process(self):\n",
    "        return f\"Processing EEG signal with {self.channels} channels for {self.patient_name}.\"\n",
    "\n",
    "    def get_channels(self):\n",
    "        return self.channels\n",
    "\n",
    "    def set_channels(self, new_channels):\n",
    "        self.channels = new_channels\n",
    "\n",
    "\n",
    "class EMGSignal(MedicalSignal):\n",
    "    def __init__(self, patient_name, duration, muscle_group):\n",
    "        super().__init__(patient_name, \"EMG\")\n",
    "        self.duration = duration\n",
    "        self.muscle_group = muscle_group\n",
    "\n",
    "    def process(self):\n",
    "        return f\"Processing EMG signal for {self.patient_name} for {self.duration} seconds from the {self.muscle_group} muscle group.\"\n",
    "\n",
    "    def get_muscle_group(self):\n",
    "        return self.muscle_group\n",
    "\n",
    "    def set_muscle_group(self, new_group):\n",
    "        self.muscle_group = new_group\n",
    "\n",
    "\n",
    "#>\n",
    "ecg = ECGSignal(\"Reza Rezaei\", 60)\n",
    "eeg = EEGSignal(\"Mohammad Rezaei\", 32)\n",
    "emg = EMGSignal(\"Reza Mohammadi\", 45, \"biceps\")\n",
    "\n",
    "#print(ecg.is_valid())\n",
    "print(ecg.process())\n",
    "print(eeg.process())\n",
    "print(emg.process())\n",
    "\n",
    "print(ecg.get_info())\n",
    "print(ecg.get_duration())\n",
    "ecg.set_duration(75)\n",
    "print(ecg.get_duration())\n",
    "\n",
    "print(eeg.get_info())\n",
    "print(eeg.get_channels())\n",
    "eeg.set_channels(40)\n",
    "print(eeg.get_channels())\n",
    "\n",
    "print(emg.get_info())\n",
    "print(emg.get_muscle_group())\n",
    "emg.set_muscle_group(\"triceps\")\n",
    "print(emg.get_muscle_group())\n"
   ]
  }
 ],
 "metadata": {
  "kernelspec": {
   "display_name": "base",
   "language": "python",
   "name": "python3"
  },
  "language_info": {
   "codemirror_mode": {
    "name": "ipython",
    "version": 3
   },
   "file_extension": ".py",
   "mimetype": "text/x-python",
   "name": "python",
   "nbconvert_exporter": "python",
   "pygments_lexer": "ipython3",
   "version": "3.12.7"
  }
 },
 "nbformat": 4,
 "nbformat_minor": 2
}
