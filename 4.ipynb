{
 "cells": [
  {
   "cell_type": "markdown",
   "id": "b4f66d57",
   "metadata": {},
   "source": [
    "## import"
   ]
  },
  {
   "cell_type": "markdown",
   "id": "3257dbd6",
   "metadata": {},
   "source": [
    "● Load the necessary libraries and packages here"
   ]
  },
  {
   "cell_type": "code",
   "execution_count": 2,
   "id": "70ee840c",
   "metadata": {},
   "outputs": [],
   "source": [
    "# ToDo\n",
    "import pandas as pd\n",
    "import matplotlib.pyplot as plt\n",
    "from sklearn.model_selection import train_test_split \n",
    "from sklearn.linear_model import LinearRegression\n",
    "from sklearn.tree import DecisionTreeRegressor\n",
    "from sklearn.metrics import mean_absolute_error\n",
    "\n"
   ]
  },
  {
   "cell_type": "markdown",
   "id": "5296a11b",
   "metadata": {},
   "source": [
    "## read csv"
   ]
  },
  {
   "cell_type": "markdown",
   "id": "cdc407d1",
   "metadata": {},
   "source": [
    "● Load the cardio.csv dataset using pandas and display the first few rows"
   ]
  },
  {
   "cell_type": "code",
   "execution_count": 2,
   "id": "84e3f70a",
   "metadata": {},
   "outputs": [
    {
     "data": {
      "text/html": [
       "<div>\n",
       "<style scoped>\n",
       "    .dataframe tbody tr th:only-of-type {\n",
       "        vertical-align: middle;\n",
       "    }\n",
       "\n",
       "    .dataframe tbody tr th {\n",
       "        vertical-align: top;\n",
       "    }\n",
       "\n",
       "    .dataframe thead th {\n",
       "        text-align: right;\n",
       "    }\n",
       "</style>\n",
       "<table border=\"1\" class=\"dataframe\">\n",
       "  <thead>\n",
       "    <tr style=\"text-align: right;\">\n",
       "      <th></th>\n",
       "      <th>id</th>\n",
       "      <th>age</th>\n",
       "      <th>gender</th>\n",
       "      <th>height</th>\n",
       "      <th>weight</th>\n",
       "      <th>ap_hi</th>\n",
       "      <th>ap_lo</th>\n",
       "      <th>cholesterol</th>\n",
       "      <th>gluc</th>\n",
       "      <th>smoke</th>\n",
       "      <th>alco</th>\n",
       "      <th>active</th>\n",
       "      <th>cardio</th>\n",
       "    </tr>\n",
       "  </thead>\n",
       "  <tbody>\n",
       "    <tr>\n",
       "      <th>0</th>\n",
       "      <td>0</td>\n",
       "      <td>18393</td>\n",
       "      <td>2</td>\n",
       "      <td>168</td>\n",
       "      <td>62.0</td>\n",
       "      <td>110</td>\n",
       "      <td>80</td>\n",
       "      <td>1</td>\n",
       "      <td>1</td>\n",
       "      <td>0</td>\n",
       "      <td>0</td>\n",
       "      <td>1</td>\n",
       "      <td>0</td>\n",
       "    </tr>\n",
       "    <tr>\n",
       "      <th>1</th>\n",
       "      <td>1</td>\n",
       "      <td>20228</td>\n",
       "      <td>1</td>\n",
       "      <td>156</td>\n",
       "      <td>85.0</td>\n",
       "      <td>140</td>\n",
       "      <td>90</td>\n",
       "      <td>3</td>\n",
       "      <td>1</td>\n",
       "      <td>0</td>\n",
       "      <td>0</td>\n",
       "      <td>1</td>\n",
       "      <td>1</td>\n",
       "    </tr>\n",
       "    <tr>\n",
       "      <th>2</th>\n",
       "      <td>2</td>\n",
       "      <td>18857</td>\n",
       "      <td>1</td>\n",
       "      <td>165</td>\n",
       "      <td>64.0</td>\n",
       "      <td>130</td>\n",
       "      <td>70</td>\n",
       "      <td>3</td>\n",
       "      <td>1</td>\n",
       "      <td>0</td>\n",
       "      <td>0</td>\n",
       "      <td>0</td>\n",
       "      <td>1</td>\n",
       "    </tr>\n",
       "    <tr>\n",
       "      <th>3</th>\n",
       "      <td>3</td>\n",
       "      <td>17623</td>\n",
       "      <td>2</td>\n",
       "      <td>169</td>\n",
       "      <td>82.0</td>\n",
       "      <td>150</td>\n",
       "      <td>100</td>\n",
       "      <td>1</td>\n",
       "      <td>1</td>\n",
       "      <td>0</td>\n",
       "      <td>0</td>\n",
       "      <td>1</td>\n",
       "      <td>1</td>\n",
       "    </tr>\n",
       "    <tr>\n",
       "      <th>4</th>\n",
       "      <td>4</td>\n",
       "      <td>17474</td>\n",
       "      <td>1</td>\n",
       "      <td>156</td>\n",
       "      <td>56.0</td>\n",
       "      <td>100</td>\n",
       "      <td>60</td>\n",
       "      <td>1</td>\n",
       "      <td>1</td>\n",
       "      <td>0</td>\n",
       "      <td>0</td>\n",
       "      <td>0</td>\n",
       "      <td>0</td>\n",
       "    </tr>\n",
       "  </tbody>\n",
       "</table>\n",
       "</div>"
      ],
      "text/plain": [
       "   id    age  gender  height  weight  ap_hi  ap_lo  cholesterol  gluc  smoke  \\\n",
       "0   0  18393       2     168    62.0    110     80            1     1      0   \n",
       "1   1  20228       1     156    85.0    140     90            3     1      0   \n",
       "2   2  18857       1     165    64.0    130     70            3     1      0   \n",
       "3   3  17623       2     169    82.0    150    100            1     1      0   \n",
       "4   4  17474       1     156    56.0    100     60            1     1      0   \n",
       "\n",
       "   alco  active  cardio  \n",
       "0     0       1       0  \n",
       "1     0       1       1  \n",
       "2     0       0       1  \n",
       "3     0       1       1  \n",
       "4     0       0       0  "
      ]
     },
     "execution_count": 2,
     "metadata": {},
     "output_type": "execute_result"
    }
   ],
   "source": [
    "# ToDo\n",
    "df=pd.read_csv(\"E:\\\\soheil\\\\ارشد\\\\term3\\\\machine\\\\HaleTamrin\\\\part 4\\\\cardio.csv\")\n",
    "df.head()\n"
   ]
  },
  {
   "cell_type": "markdown",
   "id": "6624eb78",
   "metadata": {},
   "source": [
    "## EDA"
   ]
  },
  {
   "cell_type": "markdown",
   "id": "8fbf8b92",
   "metadata": {},
   "source": [
    "● Convert the age to years (it should be an integer)."
   ]
  },
  {
   "cell_type": "code",
   "execution_count": 3,
   "id": "284161c9",
   "metadata": {},
   "outputs": [
    {
     "data": {
      "text/html": [
       "<div>\n",
       "<style scoped>\n",
       "    .dataframe tbody tr th:only-of-type {\n",
       "        vertical-align: middle;\n",
       "    }\n",
       "\n",
       "    .dataframe tbody tr th {\n",
       "        vertical-align: top;\n",
       "    }\n",
       "\n",
       "    .dataframe thead th {\n",
       "        text-align: right;\n",
       "    }\n",
       "</style>\n",
       "<table border=\"1\" class=\"dataframe\">\n",
       "  <thead>\n",
       "    <tr style=\"text-align: right;\">\n",
       "      <th></th>\n",
       "      <th>id</th>\n",
       "      <th>age</th>\n",
       "      <th>gender</th>\n",
       "      <th>height</th>\n",
       "      <th>weight</th>\n",
       "      <th>ap_hi</th>\n",
       "      <th>ap_lo</th>\n",
       "      <th>cholesterol</th>\n",
       "      <th>gluc</th>\n",
       "      <th>smoke</th>\n",
       "      <th>alco</th>\n",
       "      <th>active</th>\n",
       "      <th>cardio</th>\n",
       "    </tr>\n",
       "  </thead>\n",
       "  <tbody>\n",
       "    <tr>\n",
       "      <th>0</th>\n",
       "      <td>0</td>\n",
       "      <td>50</td>\n",
       "      <td>2</td>\n",
       "      <td>168</td>\n",
       "      <td>62.0</td>\n",
       "      <td>110</td>\n",
       "      <td>80</td>\n",
       "      <td>1</td>\n",
       "      <td>1</td>\n",
       "      <td>0</td>\n",
       "      <td>0</td>\n",
       "      <td>1</td>\n",
       "      <td>0</td>\n",
       "    </tr>\n",
       "    <tr>\n",
       "      <th>1</th>\n",
       "      <td>1</td>\n",
       "      <td>55</td>\n",
       "      <td>1</td>\n",
       "      <td>156</td>\n",
       "      <td>85.0</td>\n",
       "      <td>140</td>\n",
       "      <td>90</td>\n",
       "      <td>3</td>\n",
       "      <td>1</td>\n",
       "      <td>0</td>\n",
       "      <td>0</td>\n",
       "      <td>1</td>\n",
       "      <td>1</td>\n",
       "    </tr>\n",
       "    <tr>\n",
       "      <th>2</th>\n",
       "      <td>2</td>\n",
       "      <td>51</td>\n",
       "      <td>1</td>\n",
       "      <td>165</td>\n",
       "      <td>64.0</td>\n",
       "      <td>130</td>\n",
       "      <td>70</td>\n",
       "      <td>3</td>\n",
       "      <td>1</td>\n",
       "      <td>0</td>\n",
       "      <td>0</td>\n",
       "      <td>0</td>\n",
       "      <td>1</td>\n",
       "    </tr>\n",
       "    <tr>\n",
       "      <th>3</th>\n",
       "      <td>3</td>\n",
       "      <td>48</td>\n",
       "      <td>2</td>\n",
       "      <td>169</td>\n",
       "      <td>82.0</td>\n",
       "      <td>150</td>\n",
       "      <td>100</td>\n",
       "      <td>1</td>\n",
       "      <td>1</td>\n",
       "      <td>0</td>\n",
       "      <td>0</td>\n",
       "      <td>1</td>\n",
       "      <td>1</td>\n",
       "    </tr>\n",
       "    <tr>\n",
       "      <th>4</th>\n",
       "      <td>4</td>\n",
       "      <td>47</td>\n",
       "      <td>1</td>\n",
       "      <td>156</td>\n",
       "      <td>56.0</td>\n",
       "      <td>100</td>\n",
       "      <td>60</td>\n",
       "      <td>1</td>\n",
       "      <td>1</td>\n",
       "      <td>0</td>\n",
       "      <td>0</td>\n",
       "      <td>0</td>\n",
       "      <td>0</td>\n",
       "    </tr>\n",
       "  </tbody>\n",
       "</table>\n",
       "</div>"
      ],
      "text/plain": [
       "   id  age  gender  height  weight  ap_hi  ap_lo  cholesterol  gluc  smoke  \\\n",
       "0   0   50       2     168    62.0    110     80            1     1      0   \n",
       "1   1   55       1     156    85.0    140     90            3     1      0   \n",
       "2   2   51       1     165    64.0    130     70            3     1      0   \n",
       "3   3   48       2     169    82.0    150    100            1     1      0   \n",
       "4   4   47       1     156    56.0    100     60            1     1      0   \n",
       "\n",
       "   alco  active  cardio  \n",
       "0     0       1       0  \n",
       "1     0       1       1  \n",
       "2     0       0       1  \n",
       "3     0       1       1  \n",
       "4     0       0       0  "
      ]
     },
     "execution_count": 3,
     "metadata": {},
     "output_type": "execute_result"
    }
   ],
   "source": [
    "# ToDo\n",
    "df['age'] = (df['age'] / 365).astype(int)\n",
    "#df.columns.values[1]='age in year'\n",
    "df.head()"
   ]
  },
  {
   "cell_type": "markdown",
   "id": "e64368bc",
   "metadata": {},
   "source": [
    "● Plot a scatter of height vs weight with color labels based on the 'cardio' column"
   ]
  },
  {
   "cell_type": "code",
   "execution_count": 4,
   "id": "4f5fb9a9",
   "metadata": {},
   "outputs": [
    {
     "data": {
      "text/plain": [
       "Text(0, 0.5, 'height')"
      ]
     },
     "execution_count": 4,
     "metadata": {},
     "output_type": "execute_result"
    },
    {
     "data": {
      "image/png": "[encoded data removed]",
      "text/plain": [
       "<Figure size 640x480 with 1 Axes>"
      ]
     },
     "metadata": {},
     "output_type": "display_data"
    }
   ],
   "source": [
    "# ToDo\n",
    "color=['red' if c==1 else 'blue' for c in df['cardio']]\n",
    "plt.scatter(df['weight'],df['height'],color=color)\n",
    "plt.xlabel('weight')\n",
    "plt.ylabel('height')"
   ]
  },
  {
   "cell_type": "markdown",
   "id": "6b325966",
   "metadata": {},
   "source": [
    "■ **Question:** 1_Is there a relationship between individuals' height and weight (body mass index) and cardiovascular problems?"
   ]
  },
  {
   "cell_type": "code",
   "execution_count": 5,
   "id": "eeb2d02c",
   "metadata": {},
   "outputs": [
    {
     "data": {
      "text/plain": [
       "'\\nAnswer here:\\n>> the red points represent cardiovascular problems,they seem to be more on the right side of the plot,\\nshow that, those with higher weight have more probability to have cardiovascular problems.\\n\\n'"
      ]
     },
     "execution_count": 5,
     "metadata": {},
     "output_type": "execute_result"
    }
   ],
   "source": [
    "'''\n",
    "Answer here:\n",
    ">> the red points represent cardiovascular problems,they seem to be more on the right side of the plot,\n",
    "show that, those with higher weight have more probability to have cardiovascular problems.\n",
    "\n",
    "'''"
   ]
  },
  {
   "cell_type": "markdown",
   "id": "dc988303",
   "metadata": {},
   "source": [
    "## Data preparation"
   ]
  },
  {
   "cell_type": "markdown",
   "id": "aaf13e54",
   "metadata": {},
   "source": [
    "● Consider the ap_hi column as the label (target) and the rest of the columns as input features (data). Then, display the dimensions of both the input data and the labels."
   ]
  },
  {
   "cell_type": "code",
   "execution_count": 6,
   "id": "64cc5a47",
   "metadata": {},
   "outputs": [
    {
     "name": "stdout",
     "output_type": "stream",
     "text": [
      "input dimensions : (70000, 12)\n",
      "labels dimensions: (70000,)\n"
     ]
    }
   ],
   "source": [
    "# ToDo\n",
    "\n",
    "x = df.drop(columns=['ap_hi'])\n",
    "y = df['ap_hi']\n",
    "\n",
    "print(\"input dimensions :\", x.shape)\n",
    "print(\"labels dimensions:\", y.shape)\n"
   ]
  },
  {
   "cell_type": "markdown",
   "id": "33a3c84d",
   "metadata": {},
   "source": [
    "■ **Question:** 2_What type of learning is this (Supervised, Unsupervised, Semi-Supervised, or Self-Supervised), and what is the nature of the task we are trying to perform (Clustering, Classification, etc.)?"
   ]
  },
  {
   "cell_type": "code",
   "execution_count": 7,
   "id": "a7518495",
   "metadata": {},
   "outputs": [
    {
     "data": {
      "text/plain": [
       "'\\nAnswer here:\\n>> Supervised\\n>> regression\\n\\n'"
      ]
     },
     "execution_count": 7,
     "metadata": {},
     "output_type": "execute_result"
    }
   ],
   "source": [
    "'''\n",
    "Answer here:\n",
    ">> Supervised\n",
    ">> regression\n",
    "\n",
    "'''"
   ]
  },
  {
   "cell_type": "markdown",
   "id": "f1cca922",
   "metadata": {},
   "source": [
    "## split"
   ]
  },
  {
   "cell_type": "markdown",
   "id": "c745dac6",
   "metadata": {},
   "source": [
    "● Split the data into training and testing sets. Use `random_state= 44` for reproducibility. Then, display the dimensions of both the data and the labels."
   ]
  },
  {
   "cell_type": "code",
   "execution_count": 8,
   "id": "d9d68179",
   "metadata": {},
   "outputs": [
    {
     "name": "stdout",
     "output_type": "stream",
     "text": [
      " data  (x_train): (56000, 12)\n",
      " data  (x_test): (14000, 12)\n",
      " labels  (y_train): (56000,)\n",
      " labels(y_test): (14000,)\n"
     ]
    }
   ],
   "source": [
    "# ToDo\n",
    "\n",
    "x_train, x_test, y_train, y_test = train_test_split(x, y, test_size=0.2, random_state=44)\n",
    "\n",
    "print(\" data  (x_train):\", x_train.shape)\n",
    "print(\" data  (x_test):\", x_test.shape)\n",
    "print(\" labels  (y_train):\", y_train.shape)\n",
    "print(\" labels(y_test):\", y_test.shape)\n"
   ]
  },
  {
   "cell_type": "markdown",
   "id": "3054cf84",
   "metadata": {},
   "source": [
    "## regression"
   ]
  },
  {
   "cell_type": "markdown",
   "id": "02274e3c",
   "metadata": {},
   "source": [
    "● Define a function that takes a model as input, trains the model on the training data, and then evaluates it on the testing data using the Mean Absolute Error (MAE) metric. Finally, print the model and the MAE value.\n",
    "\n",
    "Note: The MAE value should be rounded to two decimal places."
   ]
  },
  {
   "cell_type": "code",
   "execution_count": 9,
   "id": "7dbd4bf2",
   "metadata": {},
   "outputs": [
    {
     "name": "stdout",
     "output_type": "stream",
     "text": [
      "model: LinearRegression()\n",
      "MAE  : 14.34\n"
     ]
    }
   ],
   "source": [
    "# ToDo\n",
    "def evaluate_model(model, x_train, y_train, x_test, y_test):\n",
    "    model.fit(x_train, y_train)\n",
    "    y_pred = model.predict(x_test)\n",
    "    \n",
    "    mae = mean_absolute_error(y_test, y_pred)\n",
    "    \n",
    "    print(f\"model: {model}\")\n",
    "    print(f\"MAE  : {round(mae, 2)}\")\n",
    " \n",
    " #>>   \n",
    "model = LinearRegression()\n",
    "evaluate_model(model, x_train, y_train, x_test, y_test)"
   ]
  },
  {
   "cell_type": "markdown",
   "id": "b2aa0473",
   "metadata": {},
   "source": [
    "● Train two models, Linear Regression and Decision Tree Regressor, using the previously defined function. Compare their performance based on the printed MAE values.\n"
   ]
  },
  {
   "cell_type": "code",
   "execution_count": 10,
   "id": "2b10eacd",
   "metadata": {},
   "outputs": [
    {
     "name": "stdout",
     "output_type": "stream",
     "text": [
      "model: LinearRegression()\n",
      "MAE  : 14.34\n",
      "model: DecisionTreeRegressor(random_state=44)\n",
      "MAE  : 18.48\n"
     ]
    }
   ],
   "source": [
    "# ToDo\n",
    "linear_model = LinearRegression()\n",
    "tree_model = DecisionTreeRegressor(random_state=44)\n",
    "\n",
    "evaluate_model(linear_model, x_train, y_train, x_test, y_test)\n",
    "evaluate_model(tree_model, x_train, y_train, x_test, y_test)\n"
   ]
  },
  {
   "cell_type": "markdown",
   "id": "ea056465",
   "metadata": {},
   "source": [
    "■ **Question:** \n",
    "\n",
    "3_How is the performance of the models? Is it satisfactory?\n",
    "\n",
    "4_There is a key difference in the labels of this problem compared to the diabetes dataset used in class, which changes the nature of the problem. What is this difference?"
   ]
  },
  {
   "cell_type": "code",
   "execution_count": 11,
   "id": "70fd475f",
   "metadata": {},
   "outputs": [
    {
     "data": {
      "text/plain": [
       "'\\nAnswer here:\\n\\n\\n\\n'"
      ]
     },
     "execution_count": 11,
     "metadata": {},
     "output_type": "execute_result"
    }
   ],
   "source": [
    "'''\n",
    "Answer here:\n",
    "3>>\n",
    "lower MAE -> better predictions\n",
    "linear regression was better\n",
    "I think it is not really satisfactory at all, but it depends on our expectations or our work!\n",
    "\n",
    "\n",
    "4>>\n",
    " the labels for ap_hi are continuous numerics -> regression \n",
    " diabetes data has binary values : diabetes or not    -> classification\n",
    "'''"
   ]
  }
 ],
 "metadata": {
  "kernelspec": {
   "display_name": "base",
   "language": "python",
   "name": "python3"
  },
  "language_info": {
   "codemirror_mode": {
    "name": "ipython",
    "version": 3
   },
   "file_extension": ".py",
   "mimetype": "text/x-python",
   "name": "python",
   "nbconvert_exporter": "python",
   "pygments_lexer": "ipython3",
   "version": "3.12.7"
  },
  "toc": {
   "base_numbering": 1,
   "nav_menu": {},
   "number_sections": true,
   "sideBar": true,
   "skip_h1_title": false,
   "title_cell": "Table of Contents",
   "title_sidebar": "Contents",
   "toc_cell": false,
   "toc_position": {
    "height": "calc(100% - 180px)",
    "left": "10px",
    "top": "150px",
    "width": "185.389px"
   },
   "toc_section_display": true,
   "toc_window_display": false
  }
 },
 "nbformat": 4,
 "nbformat_minor": 5
}
