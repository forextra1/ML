{
 "cells": [
  {
   "cell_type": "code",
   "execution_count": null,
   "metadata": {},
   "outputs": [],
   "source": [
    "# Import necessary libraries\n",
    "import pandas as pd\n",
    "from sklearn.model_selection import train_test_split\n",
    "\n",
    "# Load your dataset\n",
    "# Replace 'your_dataset.csv' with the path to your dataset\n",
    "data = pd.read_csv('your_dataset.csv')\n",
    "\n",
    "# Inspect the data\n",
    "print(data.head())\n",
    "print(data.info())\n",
    "\n",
    "# Separate features (X) and target variable (y)\n",
    "# Replace 'target_column' with the actual column name of your target variable\n",
    "X = data.drop(columns=['target_column'])\n",
    "y = data['target_column']\n",
    "\n",
    "# Perform train-test split\n",
    "# Adjust test_size (e.g., 0.2 for 20% test set) and random_state for reproducibility\n",
    "X_train, X_test, y_train, y_test = train_test_split(X, y, test_size=0.2, random_state=42)\n",
    "\n",
    "# Check the shapes of the resulting datasets\n",
    "print(\"Training set shape:\", X_train.shape, y_train.shape)\n",
    "print(\"Test set shape:\", X_test.shape, y_test.shape)\n",
    "\n",
    "# The data is now ready for model training\n",
    "# Example: Save or pass it to a machine learning model\n",
    "# model.fit(X_train, y_train)\n",
    "\n",
    "# Optionally save the splits to disk for later use\n",
    "X_train.to_csv('X_train.csv', index=False)\n",
    "X_test.to_csv('X_test.csv', index=False)\n",
    "y_train.to_csv('y_train.csv', index=False)\n",
    "y_test.to_csv('y_test.csv', index=False)\n"
   ]
  }
 ],
 "metadata": {
  "kernelspec": {
   "display_name": "base",
   "language": "python",
   "name": "python3"
  },
  "language_info": {
   "codemirror_mode": {
    "name": "ipython",
    "version": 3
   },
   "file_extension": ".py",
   "mimetype": "text/x-python",
   "name": "python",
   "nbconvert_exporter": "python",
   "pygments_lexer": "ipython3",
   "version": "3.12.3"
  }
 },
 "nbformat": 4,
 "nbformat_minor": 2
}
