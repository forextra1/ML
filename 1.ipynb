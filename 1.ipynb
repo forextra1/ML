{
 "cells": [
  {
   "cell_type": "markdown",
   "metadata": {},
   "source": [
    "\n",
    "### tamrin 1 :\n",
    " \n",
    " 1- Write a function to calculate circle area with given radius"
   ]
  },
  {
   "cell_type": "code",
   "execution_count": 2,
   "metadata": {},
   "outputs": [
    {
     "name": "stdout",
     "output_type": "stream",
     "text": [
      "circle_area is :  78.5\n"
     ]
    }
   ],
   "source": [
    "def circle_area(r, pi=3.14):\n",
    "    \n",
    "    A=pi*r**2\n",
    "    return A\n",
    "print(\"circle_area is : \", circle_area(5, pi=3.14))"
   ]
  },
  {
   "cell_type": "markdown",
   "metadata": {},
   "source": [
    "2- Write a function to return even character for each given word"
   ]
  },
  {
   "cell_type": "code",
   "execution_count": 3,
   "metadata": {},
   "outputs": [
    {
     "name": "stdout",
     "output_type": "stream",
     "text": [
      "evenCharacters is :  pto\n"
     ]
    }
   ],
   "source": [
    "def evenCharacter(word=\"python\"):\n",
    "    even=word[::2]\n",
    "    return even\n",
    "print(\"evenCharacters is : \", evenCharacter())"
   ]
  },
  {
   "cell_type": "markdown",
   "metadata": {},
   "source": [
    "3- Write a function that takes two inputs: a list and a word. The function should check if the word is in the list or not."
   ]
  },
  {
   "cell_type": "code",
   "execution_count": 4,
   "metadata": {},
   "outputs": [
    {
     "data": {
      "text/plain": [
       "'No'"
      ]
     },
     "execution_count": 4,
     "metadata": {},
     "output_type": "execute_result"
    }
   ],
   "source": [
    "def is_word_in_list(list, word):\n",
    "    \n",
    "    if word in list:\n",
    "        return 'Yes'\n",
    "    else:\n",
    "        return 'No'\n",
    "    \n",
    "list = [\"cat\", \"dog\", \"bird\"]\n",
    "word = \"banana\"\n",
    "\n",
    "is_word_in_list(list, word)\n"
   ]
  }
 ],
 "metadata": {
  "kernelspec": {
   "display_name": "base",
   "language": "python",
   "name": "python3"
  },
  "language_info": {
   "codemirror_mode": {
    "name": "ipython",
    "version": 3
   },
   "file_extension": ".py",
   "mimetype": "text/x-python",
   "name": "python",
   "nbconvert_exporter": "python",
   "pygments_lexer": "ipython3",
   "version": "3.12.7"
  }
 },
 "nbformat": 4,
 "nbformat_minor": 2
}
